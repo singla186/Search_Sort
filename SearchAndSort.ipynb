{
 "cells": [
  {
   "cell_type": "code",
   "execution_count": 1,
   "id": "06775c4d",
   "metadata": {},
   "outputs": [],
   "source": [
    "def linearsearch(searchlist, no_to_find):\n",
    "    for i in range(len(searchlist)):\n",
    "        if searchlist[i]== no_to_find:\n",
    "            return i\n",
    "    return -1"
   ]
  },
  {
   "cell_type": "code",
   "execution_count": 2,
   "id": "b43472fc",
   "metadata": {},
   "outputs": [],
   "source": [
    "def binarysearch(searchlist, no_to_find):\n",
    "    left_i = 0\n",
    "    right_i = len(searchlist)-1\n",
    "    while left_i != right_i:\n",
    "        mid_i = (left_i + right_i)//2\n",
    "        if searchlist[mid_i] == no_to_find:\n",
    "            return mid_i\n",
    "        elif searchlist[mid_i]> no_to_find:\n",
    "            right_i = mid_i - 1\n",
    "        else:\n",
    "            left_i = mid_i + 1\n",
    "    if(searchlist[left_i] == no_to_find):\n",
    "        return left_i\n",
    "    else:\n",
    "        return -1"
   ]
  },
  {
   "cell_type": "code",
   "execution_count": 3,
   "id": "35588b47",
   "metadata": {},
   "outputs": [
    {
     "name": "stdout",
     "output_type": "stream",
     "text": [
      "-1\n"
     ]
    }
   ],
   "source": [
    "if __name__ == '__main__':\n",
    "    print(binarysearch([1,2,3,4,5,6,7,8,9],10))\n",
    "      "
   ]
  },
  {
   "cell_type": "markdown",
   "id": "749b01dd",
   "metadata": {},
   "source": [
    "### Bubble Sort"
   ]
  },
  {
   "cell_type": "code",
   "execution_count": 4,
   "id": "142bbd49",
   "metadata": {},
   "outputs": [],
   "source": [
    "def bubblesort(arr):\n",
    "    for i in range(len(arr)-1):\n",
    "        Swapped = False\n",
    "        for j in range(len(arr)-1-i):\n",
    "            if arr[j]>arr[j+1]:\n",
    "                temp = arr[j]\n",
    "                arr[j] = arr[j+1]\n",
    "                arr[j+1] = temp\n",
    "                Swapped = True\n",
    "        if not Swapped:\n",
    "            break\n",
    "    return arr\n",
    "                "
   ]
  },
  {
   "cell_type": "code",
   "execution_count": 5,
   "id": "75908c2e",
   "metadata": {},
   "outputs": [
    {
     "name": "stdout",
     "output_type": "stream",
     "text": [
      "[1, 2, 3, 6, 7, 9, 10, 100]\n"
     ]
    }
   ],
   "source": [
    "if __name__ == '__main__':\n",
    "    print(bubblesort([100,2,7,3,6,9,10,1]))"
   ]
  },
  {
   "cell_type": "code",
   "execution_count": null,
   "id": "2613d034",
   "metadata": {},
   "outputs": [],
   "source": []
  },
  {
   "cell_type": "markdown",
   "id": "90875cc9",
   "metadata": {},
   "source": [
    "Modify bubble_sort function such that it can sort following list of transactions happening in an electronic store,\n",
    "\n",
    "elements = [\n",
    "        { 'name': 'mona',   'transaction_amount': 1000, 'device': 'iphone-10'},\n",
    "        { 'name': 'dhaval', 'transaction_amount': 400,  'device': 'google pixel'},\n",
    "        { 'name': 'kathy',  'transaction_amount': 200,  'device': 'vivo'},\n",
    "        { 'name': 'aamir',  'transaction_amount': 800,  'device': 'iphone-8'},\n",
    "    ]"
   ]
  },
  {
   "cell_type": "code",
   "execution_count": 6,
   "id": "d044222d",
   "metadata": {},
   "outputs": [],
   "source": [
    "def bubblesort(arr,key):\n",
    "    for i in range(len(arr)-1):\n",
    "        Swapped = False\n",
    "        for j in range(len(arr)-1-i):\n",
    "            if arr[j][key]>arr[j+1][key]:\n",
    "                temp = arr[j][key]\n",
    "                arr[j][key] = arr[j+1][key]\n",
    "                arr[j+1][key] = temp\n",
    "                Swapped = True\n",
    "        if not Swapped:\n",
    "            break\n",
    "    return arr"
   ]
  },
  {
   "cell_type": "code",
   "execution_count": 8,
   "id": "5c9c97a1",
   "metadata": {},
   "outputs": [
    {
     "name": "stdout",
     "output_type": "stream",
     "text": [
      "[{'name': 'mona', 'transaction_amount': 200, 'device': 'iphone-10'}, {'name': 'dhaval', 'transaction_amount': 400, 'device': 'google pixel'}, {'name': 'kathy', 'transaction_amount': 800, 'device': 'vivo'}, {'name': 'aamir', 'transaction_amount': 1000, 'device': 'iphone-8'}]\n",
      "[{'name': 'aamir', 'transaction_amount': 200, 'device': 'iphone-10'}, {'name': 'dhaval', 'transaction_amount': 400, 'device': 'google pixel'}, {'name': 'kathy', 'transaction_amount': 800, 'device': 'vivo'}, {'name': 'mona', 'transaction_amount': 1000, 'device': 'iphone-8'}]\n"
     ]
    }
   ],
   "source": [
    "if __name__ == '__main__':\n",
    "    elements = [ { 'name': 'mona', 'transaction_amount': 1000, 'device': 'iphone-10'}, { 'name': 'dhaval', 'transaction_amount': 400, 'device': 'google pixel'}, { 'name': 'kathy', 'transaction_amount': 200, 'device': 'vivo'}, { 'name': 'aamir', 'transaction_amount': 800, 'device': 'iphone-8'}, ]\n",
    "    print(bubblesort(elements, key='transaction_amount'))\n",
    "    print(bubblesort(elements, key='name'))    "
   ]
  },
  {
   "cell_type": "code",
   "execution_count": null,
   "id": "3bbeb441",
   "metadata": {},
   "outputs": [],
   "source": []
  },
  {
   "cell_type": "markdown",
   "id": "87bfdbf3",
   "metadata": {},
   "source": [
    "### Merge Sort"
   ]
  },
  {
   "cell_type": "code",
   "execution_count": 16,
   "id": "9eeefb6f",
   "metadata": {},
   "outputs": [],
   "source": [
    "def merge_sort(arr):\n",
    "    if len(arr)<=1:\n",
    "        return\n",
    "    mid = len(arr)//2\n",
    "    left = arr[:mid]\n",
    "    right = arr[mid:]\n",
    "    merge_sort(left)\n",
    "    merge_sort(right)\n",
    "    merge_two_sorted_lists(left,right,arr)\n",
    "    "
   ]
  },
  {
   "cell_type": "code",
   "execution_count": 22,
   "id": "e2313cb9",
   "metadata": {},
   "outputs": [],
   "source": [
    "def merge_two_sorted_lists(a,b,arr):\n",
    "    i=j=k=0\n",
    "    while i<len(a) and j<len(b):\n",
    "        if a[i] < b[j]:\n",
    "            arr[k] = a[i]\n",
    "            i +=1\n",
    "        else:\n",
    "            arr[k] = b[j]\n",
    "            j +=1\n",
    "        k+=1\n",
    "    while i<len(a):\n",
    "        arr[k] = a[i]\n",
    "        i +=1\n",
    "        k += 1\n",
    "    while j<len(b):\n",
    "        arr[k] = b[j]\n",
    "        j +=1\n",
    "        k += 1\n",
    "    return"
   ]
  },
  {
   "cell_type": "code",
   "execution_count": 21,
   "id": "084a6961",
   "metadata": {},
   "outputs": [
    {
     "name": "stdout",
     "output_type": "stream",
     "text": [
      "[2, 3, 4, 7, 9, 10, 10, 11, 13, 18]\n"
     ]
    }
   ],
   "source": [
    "if __name__ == '__main__':\n",
    "    arr =[11,2,3,10,7,13,4,18,9,10]\n",
    "    merge_sort(arr)\n",
    "    print(arr)\n"
   ]
  },
  {
   "cell_type": "code",
   "execution_count": 38,
   "id": "432ea78c",
   "metadata": {},
   "outputs": [],
   "source": [
    "def merge_sort(arr, key):\n",
    "    if len(arr)<=1:\n",
    "        return\n",
    "    mid = len(arr)//2\n",
    "    left = arr[:mid]\n",
    "    right = arr[mid:]\n",
    "    merge_sort(left,key)\n",
    "    merge_sort(right,key)\n",
    "    merge_two_sorted_lists(left,right,arr, key)\n",
    "    \n",
    "def merge_two_sorted_lists(a,b,arr,key):\n",
    "    i=j=k=0\n",
    "    while i<len(a) and j<len(b):\n",
    "        if a[i][key] < b[j][key]:\n",
    "            arr[k] = a[i]\n",
    "            i +=1\n",
    "        else:\n",
    "            arr[k] = b[j]\n",
    "            j +=1\n",
    "        k+=1\n",
    "    while i<len(a):\n",
    "        arr[k] = a[i]\n",
    "        i +=1\n",
    "        k += 1\n",
    "    while j<len(b):\n",
    "        arr[k] = b[j]\n",
    "        j +=1\n",
    "        k += 1\n",
    "    return"
   ]
  },
  {
   "cell_type": "code",
   "execution_count": 39,
   "id": "9b47f769",
   "metadata": {},
   "outputs": [
    {
     "name": "stdout",
     "output_type": "stream",
     "text": [
      "[{'name': 'vedanth', 'age': 17, 'time_hours': 1}, {'name': 'chinmay', 'age': 24, 'time_hours': 1.5}, {'name': 'vignesh', 'age': 21, 'time_hours': 2.5}, {'name': 'rajab', 'age': 12, 'time_hours': 3}]\n",
      "[{'name': 'chinmay', 'age': 24, 'time_hours': 1.5}, {'name': 'rajab', 'age': 12, 'time_hours': 3}, {'name': 'vedanth', 'age': 17, 'time_hours': 1}, {'name': 'vignesh', 'age': 21, 'time_hours': 2.5}]\n"
     ]
    }
   ],
   "source": [
    "if __name__ == '__main__':\n",
    "    elements = [\n",
    "        { 'name': 'vedanth',   'age': 17, 'time_hours': 1},\n",
    "        { 'name': 'rajab', 'age': 12,  'time_hours': 3},\n",
    "        { 'name': 'vignesh',  'age': 21,  'time_hours': 2.5},\n",
    "        { 'name': 'chinmay',  'age': 24,  'time_hours': 1.5},\n",
    "    ]\n",
    "    merge_sort(elements, key='time_hours')\n",
    "    print(elements)\n",
    "    merge_sort(elements, key='name')\n",
    "    print(elements)"
   ]
  },
  {
   "cell_type": "code",
   "execution_count": null,
   "id": "8e121615",
   "metadata": {},
   "outputs": [],
   "source": []
  },
  {
   "cell_type": "markdown",
   "id": "1c002ef9",
   "metadata": {},
   "source": [
    "### Insertion Sort"
   ]
  },
  {
   "cell_type": "code",
   "execution_count": 50,
   "id": "a41b1677",
   "metadata": {},
   "outputs": [],
   "source": [
    "def insertion_sort(arr):\n",
    "    for i in range(1,len(arr)):\n",
    "        pivot = arr[i]\n",
    "        j = i-1\n",
    "        while j>=0 and pivot < arr[j]:\n",
    "            arr[j+1]  = arr[j]\n",
    "            j -= 1\n",
    "        arr[j+1] = pivot"
   ]
  },
  {
   "cell_type": "code",
   "execution_count": 51,
   "id": "c1aa705d",
   "metadata": {},
   "outputs": [
    {
     "name": "stdout",
     "output_type": "stream",
     "text": [
      "[5, 5, 6, 8, 9, 10, 11, 32]\n"
     ]
    }
   ],
   "source": [
    "if __name__ == '__main__':\n",
    "    arr = [10,5,6,8,9,11,32,5]\n",
    "    insertion_sort(arr)\n",
    "    print(arr)"
   ]
  },
  {
   "cell_type": "code",
   "execution_count": null,
   "id": "5590ac00",
   "metadata": {},
   "outputs": [],
   "source": []
  },
  {
   "cell_type": "code",
   "execution_count": null,
   "id": "be8a19a9",
   "metadata": {},
   "outputs": [],
   "source": []
  },
  {
   "cell_type": "code",
   "execution_count": null,
   "id": "62245272",
   "metadata": {},
   "outputs": [],
   "source": []
  },
  {
   "cell_type": "code",
   "execution_count": null,
   "id": "7ded9191",
   "metadata": {},
   "outputs": [],
   "source": []
  }
 ],
 "metadata": {
  "kernelspec": {
   "display_name": "Python 3 (ipykernel)",
   "language": "python",
   "name": "python3"
  },
  "language_info": {
   "codemirror_mode": {
    "name": "ipython",
    "version": 3
   },
   "file_extension": ".py",
   "mimetype": "text/x-python",
   "name": "python",
   "nbconvert_exporter": "python",
   "pygments_lexer": "ipython3",
   "version": "3.9.7"
  }
 },
 "nbformat": 4,
 "nbformat_minor": 5
}
